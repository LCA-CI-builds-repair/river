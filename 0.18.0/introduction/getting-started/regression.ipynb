{
 "cells": [
  {
   "cell_type": "markdown",
   "metadata": {},
   "source": [
    "# Regression "
   ]
  },
  {
   "cell_type": "markdown",
   "metadata": {},
   "source": [
    "Regression is about predicting a numeric output for a given sample. A labeled regression sample is made up of a bunch of features and a number. The number is usually continuous, but it may also be discrete. We'll use the Trump approval rating dataset as an example."
   ]
  },
  {
   "cell_type": "code",
   "execution_count": 1,
   "metadata": {
    "execution": {
     "iopub.execute_input": "2023-06-27T09:26:11.818045Z",
     "iopub.status.busy": "2023-06-27T09:26:11.817406Z",
     "iopub.status.idle": "2023-06-27T09:26:14.250712Z",
     "shell.execute_reply": "2023-06-27T09:26:14.249703Z"
    }
   },
   "outputs": [
    {
     "data": {
      "text/plain": [
       "Donald Trump approval ratings.\n",
       "\n",
       "This dataset was obtained by reshaping the data used by FiveThirtyEight for analyzing Donald\n",
       "Trump's approval ratings. It contains 5 features, which are approval ratings collected by\n",
       "5 polling agencies. The target is the approval rating from FiveThirtyEight's model. The goal of\n",
       "this task is to see if we can reproduce FiveThirtyEight's model.\n",
       "\n",
       "    Name  TrumpApproval                                                     \n",
       "    Task  Regression                                                        \n",
       " Samples  1,001                                                             \n",
       "Features  6                                                                 \n",
       "  Sparse  False                                                             \n",
       "    Path  /home/runner/work/river/river/river/datasets/trump_approval.csv.gz"
      ]
     },
     "execution_count": 1,
     "metadata": {},
     "output_type": "execute_result"
    }
   ],
   "source": [
    "from river import datasets\n",
    "\n",
    "dataset = datasets.TrumpApproval()\n",
    "dataset"
   ]
  },
  {
   "cell_type": "markdown",
   "metadata": {},
   "source": [
    "This dataset is a streaming dataset which can be looped over."
   ]
  },
  {
   "cell_type": "code",
   "execution_count": 2,
   "metadata": {
    "execution": {
     "iopub.execute_input": "2023-06-27T09:26:14.255660Z",
     "iopub.status.busy": "2023-06-27T09:26:14.254585Z",
     "iopub.status.idle": "2023-06-27T09:26:14.269078Z",
     "shell.execute_reply": "2023-06-27T09:26:14.267901Z"
    }
   },
   "outputs": [],
   "source": [
    "for x, y in dataset:\n",
    "    pass"
   ]
  },
  {
   "cell_type": "markdown",
   "metadata": {},
   "source": [
    "Let's take a look at the first sample."
   ]
  },
  {
   "cell_type": "code",
   "execution_count": 3,
   "metadata": {
    "execution": {
     "iopub.execute_input": "2023-06-27T09:26:14.273203Z",
     "iopub.status.busy": "2023-06-27T09:26:14.272926Z",
     "iopub.status.idle": "2023-06-27T09:26:14.279687Z",
     "shell.execute_reply": "2023-06-27T09:26:14.278646Z"
    }
   },
   "outputs": [
    {
     "data": {
      "text/plain": [
       "{'ordinal_date': 736389,\n",
       " 'gallup': 43.843213,\n",
       " 'ipsos': 46.19925042857143,\n",
       " 'morning_consult': 48.318749,\n",
       " 'rasmussen': 44.104692,\n",
       " 'you_gov': 43.636914000000004}"
      ]
     },
     "execution_count": 3,
     "metadata": {},
     "output_type": "execute_result"
    }
   ],
   "source": [
    "x, y = next(iter(dataset))\n",
    "x"
   ]
  },
  {
   "cell_type": "markdown",
   "metadata": {},
   "source": [
    "A regression model's goal is to learn to predict a numeric target `y` from a bunch of features `x`. We'll attempt to do this with a nearest neighbors model."
   ]
  },
  {
   "cell_type": "code",
   "execution_count": 4,
   "metadata": {
    "execution": {
     "iopub.execute_input": "2023-06-27T09:26:14.286486Z",
     "iopub.status.busy": "2023-06-27T09:26:14.286139Z",
     "iopub.status.idle": "2023-06-27T09:26:14.305757Z",
     "shell.execute_reply": "2023-06-27T09:26:14.304884Z"
    }
   },
   "outputs": [
    {
     "data": {
      "text/plain": [
       "0.0"
      ]
     },
     "execution_count": 4,
     "metadata": {},
     "output_type": "execute_result"
    }
   ],
   "source": [
    "from river import neighbors\n",
    "\n",
    "model = neighbors.KNNRegressor()\n",
    "model.predict_one(x)"
   ]
  },
  {
   "cell_type": "markdown",
   "metadata": {},
   "source": [
    "The model hasn't been trained on any data, and therefore outputs a default value of 0.\n",
    "\n",
    "The model can be trained on the sample, which will update the model's state."
   ]
  },
  {
   "cell_type": "code",
   "execution_count": 5,
   "metadata": {
    "execution": {
     "iopub.execute_input": "2023-06-27T09:26:14.309405Z",
     "iopub.status.busy": "2023-06-27T09:26:14.308837Z",
     "iopub.status.idle": "2023-06-27T09:26:14.313635Z",
     "shell.execute_reply": "2023-06-27T09:26:14.312462Z"
    }
   },
   "outputs": [],
   "source": [
    "model = model.learn_one(x, y)"
   ]
  },
  {
   "cell_type": "markdown",
   "metadata": {},
   "source": [
    "If we try to make a prediction on the same sample, we can see that the output is different, because the model has learned something."
   ]
  },
  {
   "cell_type": "code",
   "execution_count": 6,
   "metadata": {
    "execution": {
     "iopub.execute_input": "2023-06-27T09:26:14.317613Z",
     "iopub.status.busy": "2023-06-27T09:26:14.317349Z",
     "iopub.status.idle": "2023-06-27T09:26:14.322900Z",
     "shell.execute_reply": "2023-06-27T09:26:14.321877Z"
    }
   },
   "outputs": [
    {
     "data": {
      "text/plain": [
       "43.75505"
      ]
     },
     "execution_count": 6,
     "metadata": {},
     "output_type": "execute_result"
    }
   ],
   "source": [
    "model.predict_one(x)"
   ]
  },
  {
   "cell_type": "markdown",
   "metadata": {},
   "source": [
    "Typically, an online model makes a prediction, and then learns once the ground truth reveals itself. The prediction and the ground truth can be compared to measure the model's correctness. If you have a dataset available, you can loop over it, make a prediction, update the model, and compare the model's output with the ground truth. This is called progressive validation."
   ]
  },
  {
   "cell_type": "code",
   "execution_count": 7,
   "metadata": {
    "execution": {
     "iopub.execute_input": "2023-06-27T09:26:14.329403Z",
     "iopub.status.busy": "2023-06-27T09:26:14.329101Z",
     "iopub.status.idle": "2023-06-27T09:26:20.845615Z",
     "shell.execute_reply": "2023-06-27T09:26:20.844676Z"
    }
   },
   "outputs": [
    {
     "data": {
      "text/plain": [
       "MAE: 0.310353"
      ]
     },
     "execution_count": 7,
     "metadata": {},
     "output_type": "execute_result"
    }
   ],
   "source": [
    "from river import metrics\n",
    "\n",
    "model = neighbors.KNNRegressor()\n",
    "\n",
    "metric = metrics.MAE()\n",
    "\n",
    "for x, y in dataset:\n",
    "    y_pred = model.predict_one(x)\n",
    "    model.learn_one(x, y)\n",
    "    metric.update(y, y_pred)\n",
    "    \n",
    "metric"
   ]
  },
  {
   "cell_type": "markdown",
   "metadata": {},
   "source": [
    "This is a common way to evaluate an online model. In fact, there is a dedicated `evaluate.progressive_val_score` function that does this for you."
   ]
  },
  {
   "cell_type": "code",
   "execution_count": 8,
   "metadata": {
    "execution": {
     "iopub.execute_input": "2023-06-27T09:26:20.850958Z",
     "iopub.status.busy": "2023-06-27T09:26:20.849893Z",
     "iopub.status.idle": "2023-06-27T09:26:27.170642Z",
     "shell.execute_reply": "2023-06-27T09:26:27.169668Z"
    }
   },
   "outputs": [
    {
     "data": {
      "text/plain": [
       "MAE: 0.310353"
      ]
     },
     "execution_count": 8,
     "metadata": {},
     "output_type": "execute_result"
    }
   ],
   "source": [
    "from river import evaluate\n",
    "\n",
    "model = neighbors.KNNRegressor()\n",
    "metric = metrics.MAE()\n",
    "\n",
    "evaluate.progressive_val_score(dataset, model, metric)"
   ]
  },
  {
   "cell_type": "markdown",
   "metadata": {},
   "source": [
    "That concludes the getting started introduction to regression! You can now move on to the [next steps](/introduction/next-steps)."
   ]
  }
 ],
 "metadata": {
  "interpreter": {
   "hash": "e6e87bad9c8c768904c061eafcb4f6739260ff8bb57f302c215ab258ded773dc"
  },
  "kernelspec": {
   "display_name": "Python 3.9.12 ('river')",
   "language": "python",
   "name": "python3"
  },
  "language_info": {
   "codemirror_mode": {
    "name": "ipython",
    "version": 3
   },
   "file_extension": ".py",
   "mimetype": "text/x-python",
   "name": "python",
   "nbconvert_exporter": "python",
   "pygments_lexer": "ipython3",
   "version": "3.9.17"
  }
 },
 "nbformat": 4,
 "nbformat_minor": 2
}
