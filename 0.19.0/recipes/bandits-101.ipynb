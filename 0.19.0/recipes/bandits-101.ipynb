{
 "cells": [
  {
   "attachments": {},
   "cell_type": "markdown",
   "metadata": {},
   "source": [
    "# Multi-armed bandits"
   ]
  },
  {
   "attachments": {},
   "cell_type": "markdown",
   "metadata": {},
   "source": [
    "River has a `bandit` module. It contains several multi-armed bandit policies, bandit environments, and utilities to benchmark policies on bandit problems.\n",
    "\n",
    "Bandit environments in River implement the [Gym](https://www.gymlibrary.dev/) interface. You can thus load them with `gym.make`. Note that Gym is intended for reinforcement learning algorithms, while bandit policies are the simplest form of reinforcement learing. Bandit policies learn by receiving a reward after each step, while reinforcement learning algorithms have to learn from feedback that may arrive at the end of a (long) sequence of steps."
   ]
  },
  {
   "cell_type": "code",
   "execution_count": 1,
   "metadata": {
    "execution": {
     "iopub.execute_input": "2023-09-03T14:53:43.147879Z",
     "iopub.status.busy": "2023-09-03T14:53:43.147351Z",
     "iopub.status.idle": "2023-09-03T14:53:43.289757Z",
     "shell.execute_reply": "2023-09-03T14:53:43.289122Z"
    }
   },
   "outputs": [],
   "source": [
    "import gym\n",
    "\n",
    "for k in gym.envs.registry:\n",
    "    if k.startswith('river_bandits'):\n",
    "        print(k)"
   ]
  },
  {
   "attachments": {},
   "cell_type": "markdown",
   "metadata": {},
   "source": [
    "River's bandit module offers the `bandit.evaluate` function to benchmark several policies on a given environment. It takes as input a list of bandit policies, a bandit environment (the problem to solve), and a reward object."
   ]
  },
  {
   "cell_type": "code",
   "execution_count": 2,
   "metadata": {
    "execution": {
     "iopub.execute_input": "2023-09-03T14:53:43.293414Z",
     "iopub.status.busy": "2023-09-03T14:53:43.292969Z",
     "iopub.status.idle": "2023-09-03T14:53:44.907157Z",
     "shell.execute_reply": "2023-09-03T14:53:44.906017Z"
    }
   },
   "outputs": [],
   "source": [
    "import gym\n",
    "from river import bandit\n",
    "import pandas as pd\n",
    "from tqdm import tqdm\n",
    "from river import stats\n",
    "\n",
    "policies=[\n",
    "    bandit.EpsilonGreedy(epsilon=0.1),\n",
    "    bandit.EpsilonGreedy(epsilon=0.01),\n",
    "    bandit.EpsilonGreedy(epsilon=0),\n",
    "]\n",
    "\n",
    "env = gym.make(\n",
    "    'river_bandits/KArmedTestbed-v0',\n",
    "    max_episode_steps=1000\n",
    ")\n",
    "\n",
    "trace = bandit.evaluate(\n",
    "    policies=policies,\n",
    "    env=env,\n",
    "    reward_stat=stats.Mean(),\n",
    "    n_episodes=(n_episodes := 2000),\n",
    ")"
   ]
  },
  {
   "attachments": {},
   "cell_type": "markdown",
   "metadata": {},
   "source": [
    "The `bandit.evaluate` function returns a generator containing the results at each step of the benchmark. This can be wrapped with a `pandas.DataFrame` to gather all the results."
   ]
  },
  {
   "cell_type": "code",
   "execution_count": 3,
   "metadata": {
    "execution": {
     "iopub.execute_input": "2023-09-03T14:53:44.911598Z",
     "iopub.status.busy": "2023-09-03T14:53:44.910987Z",
     "iopub.status.idle": "2023-09-03T14:55:27.322815Z",
     "shell.execute_reply": "2023-09-03T14:55:27.321941Z"
    }
   },
   "outputs": [
    {
     "name": "stderr",
     "output_type": "stream",
     "text": [
      "  0%|          | 0/6000000 [00:00<?, ?it/s]/opt/hostedtoolcache/Python/3.9.17/x64/lib/python3.9/site-packages/gym/utils/passive_env_checker.py:233: DeprecationWarning: `np.bool8` is a deprecated alias for `np.bool_`.  (Deprecated NumPy 1.24)\n",
      "  if not isinstance(terminated, (bool, np.bool8)):\n",
      "100%|██████████| 6000000/6000000 [01:30<00:00, 66372.05it/s]\n"
     ]
    },
    {
     "data": {
      "text/html": [
       "<pre style=\"white-space:pre;overflow-x:auto;line-height:normal;font-family:Menlo,'DejaVu Sans Mono',consolas,'Courier New',monospace\"></pre>\n"
      ],
      "text/plain": []
     },
     "metadata": {},
     "output_type": "display_data"
    },
    {
     "data": {
      "text/html": [
       "<div>\n",
       "<style scoped>\n",
       "    .dataframe tbody tr th:only-of-type {\n",
       "        vertical-align: middle;\n",
       "    }\n",
       "\n",
       "    .dataframe tbody tr th {\n",
       "        vertical-align: top;\n",
       "    }\n",
       "\n",
       "    .dataframe thead th {\n",
       "        text-align: right;\n",
       "    }\n",
       "</style>\n",
       "<table border=\"1\" class=\"dataframe\">\n",
       "  <thead>\n",
       "    <tr style=\"text-align: right;\">\n",
       "      <th></th>\n",
       "      <th>episode</th>\n",
       "      <th>step</th>\n",
       "      <th>policy_idx</th>\n",
       "      <th>arm</th>\n",
       "      <th>reward</th>\n",
       "      <th>reward_stat</th>\n",
       "    </tr>\n",
       "  </thead>\n",
       "  <tbody>\n",
       "    <tr>\n",
       "      <th>1324896</th>\n",
       "      <td>441</td>\n",
       "      <td>632</td>\n",
       "      <td>0</td>\n",
       "      <td>3</td>\n",
       "      <td>-0.671189</td>\n",
       "      <td>0.753953</td>\n",
       "    </tr>\n",
       "    <tr>\n",
       "      <th>3566176</th>\n",
       "      <td>1188</td>\n",
       "      <td>725</td>\n",
       "      <td>1</td>\n",
       "      <td>3</td>\n",
       "      <td>2.261129</td>\n",
       "      <td>2.052137</td>\n",
       "    </tr>\n",
       "    <tr>\n",
       "      <th>1109043</th>\n",
       "      <td>369</td>\n",
       "      <td>681</td>\n",
       "      <td>0</td>\n",
       "      <td>7</td>\n",
       "      <td>1.219307</td>\n",
       "      <td>1.640676</td>\n",
       "    </tr>\n",
       "    <tr>\n",
       "      <th>4286042</th>\n",
       "      <td>1428</td>\n",
       "      <td>680</td>\n",
       "      <td>2</td>\n",
       "      <td>6</td>\n",
       "      <td>0.517618</td>\n",
       "      <td>1.293409</td>\n",
       "    </tr>\n",
       "    <tr>\n",
       "      <th>5395174</th>\n",
       "      <td>1798</td>\n",
       "      <td>391</td>\n",
       "      <td>1</td>\n",
       "      <td>9</td>\n",
       "      <td>2.205756</td>\n",
       "      <td>1.063991</td>\n",
       "    </tr>\n",
       "  </tbody>\n",
       "</table>\n",
       "</div>"
      ],
      "text/plain": [
       "\n",
       "         episode  step  policy_idx  arm    reward  reward_stat\n",
       "\u001b[1;36m1324896\u001b[0m      \u001b[1;36m441\u001b[0m   \u001b[1;36m632\u001b[0m           \u001b[1;36m0\u001b[0m    \u001b[1;36m3\u001b[0m \u001b[1;36m-0.671189\u001b[0m     \u001b[1;36m0.753953\u001b[0m\n",
       "\u001b[1;36m3566176\u001b[0m     \u001b[1;36m1188\u001b[0m   \u001b[1;36m725\u001b[0m           \u001b[1;36m1\u001b[0m    \u001b[1;36m3\u001b[0m  \u001b[1;36m2.261129\u001b[0m     \u001b[1;36m2.052137\u001b[0m\n",
       "\u001b[1;36m1109043\u001b[0m      \u001b[1;36m369\u001b[0m   \u001b[1;36m681\u001b[0m           \u001b[1;36m0\u001b[0m    \u001b[1;36m7\u001b[0m  \u001b[1;36m1.219307\u001b[0m     \u001b[1;36m1.640676\u001b[0m\n",
       "\u001b[1;36m4286042\u001b[0m     \u001b[1;36m1428\u001b[0m   \u001b[1;36m680\u001b[0m           \u001b[1;36m2\u001b[0m    \u001b[1;36m6\u001b[0m  \u001b[1;36m0.517618\u001b[0m     \u001b[1;36m1.293409\u001b[0m\n",
       "\u001b[1;36m5395174\u001b[0m     \u001b[1;36m1798\u001b[0m   \u001b[1;36m391\u001b[0m           \u001b[1;36m1\u001b[0m    \u001b[1;36m9\u001b[0m  \u001b[1;36m2.205756\u001b[0m     \u001b[1;36m1.063991\u001b[0m"
      ]
     },
     "execution_count": 3,
     "metadata": {},
     "output_type": "execute_result"
    }
   ],
   "source": [
    "trace_df = pd.DataFrame(tqdm(\n",
    "    trace, position=0, total=(\n",
    "        n_episodes *\n",
    "        len(policies) *\n",
    "        env._max_episode_steps\n",
    "    )\n",
    "))\n",
    "trace_df.sample(5, random_state=42)"
   ]
  },
  {
   "attachments": {},
   "cell_type": "markdown",
   "metadata": {},
   "source": [
    "It is then straightforward to plot the average reward each policy obtains at each step, by averaging over episodes."
   ]
  },
  {
   "cell_type": "code",
   "execution_count": 4,
   "metadata": {
    "execution": {
     "iopub.execute_input": "2023-09-03T14:55:27.326403Z",
     "iopub.status.busy": "2023-09-03T14:55:27.326142Z",
     "iopub.status.idle": "2023-09-03T14:55:28.477297Z",
     "shell.execute_reply": "2023-09-03T14:55:28.476478Z"
    }
   },
   "outputs": [
    {
     "data": {
      "text/html": [
       "<pre style=\"white-space:pre;overflow-x:auto;line-height:normal;font-family:Menlo,'DejaVu Sans Mono',consolas,'Courier New',monospace\"></pre>\n"
      ],
      "text/plain": []
     },
     "metadata": {},
     "output_type": "display_data"
    },
    {
     "data": {
      "text/plain": [
       "\u001b[1m<\u001b[0m\u001b[1;95mAxes:\u001b[0m\u001b[39m \u001b[0m\u001b[33mxlabel\u001b[0m\u001b[39m=\u001b[0m\u001b[32m'step'\u001b[0m\u001b[1m>\u001b[0m"
      ]
     },
     "execution_count": 4,
     "metadata": {},
     "output_type": "execute_result"
    },
    {
     "data": {
      "text/html": [
       "<pre style=\"white-space:pre;overflow-x:auto;line-height:normal;font-family:Menlo,'DejaVu Sans Mono',consolas,'Courier New',monospace\"></pre>\n"
      ],
      "text/plain": []
     },
     "metadata": {},
     "output_type": "display_data"
    },
    {
     "data": {
      "image/png": "[encoded data removed]",
      "text/plain": [
       "\u001b[1m<\u001b[0m\u001b[1;95mFigure\u001b[0m\u001b[39m size 64\u001b[0m\u001b[1;36m0x480\u001b[0m\u001b[39m with \u001b[0m\u001b[1;36m1\u001b[0m\u001b[39m Axes\u001b[0m\u001b[1m>\u001b[0m"
      ]
     },
     "metadata": {},
     "output_type": "display_data"
    }
   ],
   "source": [
    "policy_names = {\n",
    "    0: 'ε = 0.1',\n",
    "    1: 'ε = 0.01',\n",
    "    2: 'ε = 0 (greedy)'\n",
    "}\n",
    "\n",
    "colors = {\n",
    "    'ε = 0.1': 'tab:blue',\n",
    "    'ε = 0.01': 'tab:red',\n",
    "    'ε = 0 (greedy)': 'tab:green'\n",
    "}\n",
    "\n",
    "(\n",
    "    trace_df\n",
    "    .assign(policy=trace_df.policy_idx.map(policy_names))\n",
    "    .groupby(['step', 'policy'])\n",
    "    ['reward'].mean()\n",
    "    .unstack()\n",
    "    .plot(color=colors)\n",
    ")"
   ]
  },
  {
   "attachments": {},
   "cell_type": "markdown",
   "metadata": {},
   "source": [
    "## Controlling the evaluation loop"
   ]
  },
  {
   "attachments": {},
   "cell_type": "markdown",
   "metadata": {},
   "source": [
    "The `bandit.evaluate` function is useful for benchmarking. But in practice, you'll want to have control over your bandit policy. Indeed you'll want the freedom to pull arms (with the `pull` method) and update the policy (with the `update` method) at your discretion.\n",
    "\n",
    "As an example, the following is a possible reimplementation of the `bandit.evaluate` function. Here we'll be measuring the rate at which each policy selects the optimal arm.\n",
    "\n",
    "Note how the `pull` and `update` methods are used."
   ]
  },
  {
   "cell_type": "code",
   "execution_count": 5,
   "metadata": {
    "execution": {
     "iopub.execute_input": "2023-09-03T14:55:28.481007Z",
     "iopub.status.busy": "2023-09-03T14:55:28.480546Z",
     "iopub.status.idle": "2023-09-03T14:57:06.642022Z",
     "shell.execute_reply": "2023-09-03T14:57:06.640923Z"
    }
   },
   "outputs": [
    {
     "name": "stderr",
     "output_type": "stream",
     "text": [
      "  0%|          | 0/6000000 [00:00<?, ?it/s]/opt/hostedtoolcache/Python/3.9.17/x64/lib/python3.9/site-packages/gym/utils/passive_env_checker.py:233: DeprecationWarning: `np.bool8` is a deprecated alias for `np.bool_`.  (Deprecated NumPy 1.24)\n",
      "  if not isinstance(terminated, (bool, np.bool8)):\n",
      "100%|██████████| 6000000/6000000 [01:31<00:00, 65467.50it/s]\n"
     ]
    }
   ],
   "source": [
    "import copy\n",
    "\n",
    "policies=[\n",
    "    bandit.EpsilonGreedy(epsilon=0.1),\n",
    "    bandit.EpsilonGreedy(epsilon=0.01),\n",
    "    bandit.EpsilonGreedy(epsilon=0),\n",
    "]\n",
    "\n",
    "env = gym.make(\n",
    "    'river_bandits/KArmedTestbed-v0',\n",
    "    max_episode_steps=1000\n",
    ")\n",
    "n_episodes = 2000\n",
    "\n",
    "trace = []\n",
    "\n",
    "with tqdm(total=len(policies) * n_episodes * env._max_episode_steps, position=0) as progress:\n",
    "    for policy in policies:\n",
    "        for episode in range(n_episodes):\n",
    "            episode_policy = policy.clone()\n",
    "            episode_env = copy.deepcopy(env)\n",
    "            episode_env.reset()\n",
    "            step = 0\n",
    "            while True:\n",
    "                action = episode_policy.pull(range(episode_env.action_space.n))\n",
    "                observation, reward, terminated, truncated, info = episode_env.step(action)\n",
    "                best_action = observation\n",
    "                episode_policy.update(action, reward)\n",
    "\n",
    "                trace.append({\n",
    "                    \"episode\": episode,\n",
    "                    \"step\": step,\n",
    "                    \"policy\": f\"ε = {policy.epsilon}\",\n",
    "                    \"is_action_optimal\": action == best_action\n",
    "                })\n",
    "                step += 1\n",
    "                progress.update()\n",
    "                \n",
    "                if terminated or truncated:\n",
    "                    break\n",
    "\n",
    "trace_df = pd.DataFrame(trace)"
   ]
  },
  {
   "cell_type": "code",
   "execution_count": 6,
   "metadata": {
    "execution": {
     "iopub.execute_input": "2023-09-03T14:57:06.646512Z",
     "iopub.status.busy": "2023-09-03T14:57:06.646091Z",
     "iopub.status.idle": "2023-09-03T14:57:07.906777Z",
     "shell.execute_reply": "2023-09-03T14:57:07.906104Z"
    }
   },
   "outputs": [
    {
     "data": {
      "text/html": [
       "<pre style=\"white-space:pre;overflow-x:auto;line-height:normal;font-family:Menlo,'DejaVu Sans Mono',consolas,'Courier New',monospace\"></pre>\n"
      ],
      "text/plain": []
     },
     "metadata": {},
     "output_type": "display_data"
    },
    {
     "data": {
      "text/plain": [
       "\u001b[1m<\u001b[0m\u001b[1;95mAxes:\u001b[0m\u001b[39m \u001b[0m\u001b[33mxlabel\u001b[0m\u001b[39m=\u001b[0m\u001b[32m'step'\u001b[0m\u001b[1m>\u001b[0m"
      ]
     },
     "execution_count": 6,
     "metadata": {},
     "output_type": "execute_result"
    },
    {
     "data": {
      "text/html": [
       "<pre style=\"white-space:pre;overflow-x:auto;line-height:normal;font-family:Menlo,'DejaVu Sans Mono',consolas,'Courier New',monospace\"></pre>\n"
      ],
      "text/plain": []
     },
     "metadata": {},
     "output_type": "display_data"
    },
    {
     "data": {
      "image/png": "[encoded data removed]",
      "text/plain": [
       "\u001b[1m<\u001b[0m\u001b[1;95mFigure\u001b[0m\u001b[39m size 64\u001b[0m\u001b[1;36m0x480\u001b[0m\u001b[39m with \u001b[0m\u001b[1;36m1\u001b[0m\u001b[39m Axes\u001b[0m\u001b[1m>\u001b[0m"
      ]
     },
     "metadata": {},
     "output_type": "display_data"
    }
   ],
   "source": [
    "colors = {\n",
    "    'ε = 0.1': 'tab:blue',\n",
    "    'ε = 0.01': 'tab:red',\n",
    "    'ε = 0': 'tab:green'\n",
    "}\n",
    "\n",
    "(\n",
    "    trace_df\n",
    "    .groupby(['step', 'policy'])\n",
    "    ['is_action_optimal'].mean()\n",
    "    .unstack()\n",
    "    .plot(color=colors)\n",
    ")"
   ]
  },
  {
   "attachments": {},
   "cell_type": "markdown",
   "metadata": {},
   "source": [
    "## Handling drift"
   ]
  },
  {
   "attachments": {},
   "cell_type": "markdown",
   "metadata": {},
   "source": [
    "The environment used above is a toy situation used for introducing bandits. It is stationary, meaning that the expected reward of each arm does not change over time.\n",
    "\n",
    "In practice, arms are dynamic, and their performance can vary over time. A simple example of this is the [Candy Cane Contest](https://www.kaggle.com/c/santa-2020) that was hosted on Kaggle in 2020. The expected reward of each arm diminishes each time it is pulled.\n",
    "\n",
    "The way bandit policies in River deal with drift depends on the method. For the `bandit.EpsilonGreedy` policy, it makes sense to use a rolling average as the reward object. What this means is that the empirical reward the policy calculates for each arm is a rolling average, rather than a global one."
   ]
  },
  {
   "cell_type": "code",
   "execution_count": 7,
   "metadata": {
    "execution": {
     "iopub.execute_input": "2023-09-03T14:57:07.913638Z",
     "iopub.status.busy": "2023-09-03T14:57:07.912424Z",
     "iopub.status.idle": "2023-09-03T14:57:40.752550Z",
     "shell.execute_reply": "2023-09-03T14:57:40.751672Z"
    }
   },
   "outputs": [
    {
     "name": "stderr",
     "output_type": "stream",
     "text": [
      "  0%|          | 0/180000 [00:00<?, ?it/s]/opt/hostedtoolcache/Python/3.9.17/x64/lib/python3.9/site-packages/gym/utils/passive_env_checker.py:233: DeprecationWarning: `np.bool8` is a deprecated alias for `np.bool_`.  (Deprecated NumPy 1.24)\n",
      "  if not isinstance(terminated, (bool, np.bool8)):\n",
      "100%|██████████| 180000/180000 [00:31<00:00, 5695.39it/s]\n"
     ]
    }
   ],
   "source": [
    "from river import proba, utils\n",
    "\n",
    "policies=[\n",
    "    bandit.EpsilonGreedy(\n",
    "        epsilon=0.1,\n",
    "        seed=42\n",
    "    ),\n",
    "    bandit.EpsilonGreedy(\n",
    "        epsilon=0.3,\n",
    "        reward_obj=utils.Rolling(stats.Mean(), window_size=50),\n",
    "        seed=42\n",
    "    ),\n",
    "    bandit.ThompsonSampling(\n",
    "        reward_obj=proba.Beta(),\n",
    "        seed=42\n",
    "    )\n",
    "]\n",
    "\n",
    "env = gym.make('river_bandits/CandyCaneContest-v0')\n",
    "\n",
    "trace = bandit.evaluate(\n",
    "    policies=policies,\n",
    "    env=env,\n",
    "    n_episodes=(n_episodes := 30),\n",
    "    seed=42\n",
    ")\n",
    "\n",
    "trace_df = pd.DataFrame(tqdm(\n",
    "    trace, position=0, total=(\n",
    "        n_episodes *\n",
    "        len(policies) *\n",
    "        env._max_episode_steps\n",
    "    )\n",
    "))"
   ]
  },
  {
   "attachments": {},
   "cell_type": "markdown",
   "metadata": {},
   "source": [
    "We can compare the performance of each policy by checking the average reward at the end of each episode."
   ]
  },
  {
   "cell_type": "code",
   "execution_count": 8,
   "metadata": {
    "execution": {
     "iopub.execute_input": "2023-09-03T14:57:40.756441Z",
     "iopub.status.busy": "2023-09-03T14:57:40.755978Z",
     "iopub.status.idle": "2023-09-03T14:57:40.776853Z",
     "shell.execute_reply": "2023-09-03T14:57:40.776122Z"
    }
   },
   "outputs": [
    {
     "data": {
      "text/html": [
       "<pre style=\"white-space:pre;overflow-x:auto;line-height:normal;font-family:Menlo,'DejaVu Sans Mono',consolas,'Courier New',monospace\"></pre>\n"
      ],
      "text/plain": []
     },
     "metadata": {},
     "output_type": "display_data"
    },
    {
     "data": {
      "text/plain": [
       "\n",
       "policy_idx\n",
       "\u001b[1;36m0\u001b[0m    \u001b[1;36m736.1\u001b[0m\n",
       "\u001b[1;36m1\u001b[0m    \u001b[1;36m817.0\u001b[0m\n",
       "\u001b[1;36m2\u001b[0m    \u001b[1;36m854.0\u001b[0m\n",
       "Name: reward_stat, dtype: float64"
      ]
     },
     "execution_count": 8,
     "metadata": {},
     "output_type": "execute_result"
    }
   ],
   "source": [
    "(\n",
    "    trace_df\n",
    "    .groupby(['policy_idx', 'episode'])\n",
    "    .last()\n",
    "    .groupby('policy_idx')\n",
    "    .reward_stat.mean()\n",
    ")"
   ]
  },
  {
   "attachments": {},
   "cell_type": "markdown",
   "metadata": {},
   "source": [
    "We see that using a rolling average gives a boost to the epsilon greedy strategy. However, we see that the `bandit.ThompsonSampling` policy performs even better, even though no particular care was given to drift. A natural next step would thus be to see how it could be improved to handle drift. For instance, its `dist` parameter could be wrapped with a `utils.Rolling`:"
   ]
  },
  {
   "cell_type": "code",
   "execution_count": 9,
   "metadata": {
    "execution": {
     "iopub.execute_input": "2023-09-03T14:57:40.780313Z",
     "iopub.status.busy": "2023-09-03T14:57:40.779863Z",
     "iopub.status.idle": "2023-09-03T14:57:40.783616Z",
     "shell.execute_reply": "2023-09-03T14:57:40.782940Z"
    }
   },
   "outputs": [],
   "source": [
    "policy = bandit.ThompsonSampling(\n",
    "    reward_obj=utils.Rolling(proba.Beta(), window_size=50),\n",
    "    seed=42\n",
    ")"
   ]
  },
  {
   "attachments": {},
   "cell_type": "markdown",
   "metadata": {},
   "source": [
    "Bandits can be used for several tasks. They can be used for content personalization, as well as online model selection (see `model_selection.BanditRegressor`). The policies in River are therefore designed to be flexible, so that they can be used in conjunction with other River modules. For instance, the `reward_obj` in `bandit.EpsilonGreedy` can be a metric, a probability distribution, or a statistic. This works because objects in River adher to a coherent get/update interface."
   ]
  }
 ],
 "metadata": {
  "kernelspec": {
   "display_name": "Python 3.9.12 ('river')",
   "language": "python",
   "name": "python3"
  },
  "language_info": {
   "codemirror_mode": {
    "name": "ipython",
    "version": 3
   },
   "file_extension": ".py",
   "mimetype": "text/x-python",
   "name": "python",
   "nbconvert_exporter": "python",
   "pygments_lexer": "ipython3",
   "version": "3.9.17"
  },
  "vscode": {
   "interpreter": {
    "hash": "e6e87bad9c8c768904c061eafcb4f6739260ff8bb57f302c215ab258ded773dc"
   }
  }
 },
 "nbformat": 4,
 "nbformat_minor": 2
}
